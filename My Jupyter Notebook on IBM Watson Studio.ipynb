{
    "cells": [
        {
            "cell_type": "markdown",
            "metadata": {
                "collapsed": true
            },
            "source": "# My Jupyter Notebook on IBM Watson Studio"
        },
        {
            "cell_type": "markdown",
            "metadata": {},
            "source": "**Arjun Dewan**\n\nData Scientist\n"
        },
        {
            "cell_type": "markdown",
            "metadata": {},
            "source": "*I am interested in data science because it helps uncover insights*"
        },
        {
            "cell_type": "markdown",
            "metadata": {},
            "source": "### My code is supposed to add 1 plus 1"
        },
        {
            "cell_type": "code",
            "execution_count": 3,
            "metadata": {},
            "outputs": [
                {
                    "data": {
                        "text/plain": "2"
                    },
                    "execution_count": 3,
                    "metadata": {},
                    "output_type": "execute_result"
                }
            ],
            "source": "1+1"
        },
        {
            "cell_type": "markdown",
            "metadata": {},
            "source": "Markdown | Less | Pretty\n--- | --- | ---\n*Still* | `renders` | **nicely**\n1 | 2 | 3\n\n\n> Blockquotes are very handy in email to emulate reply text.\n\n\n~~Scratch this.~~"
        },
        {
            "cell_type": "code",
            "execution_count": null,
            "metadata": {},
            "outputs": [],
            "source": ""
        }
    ],
    "metadata": {
        "kernelspec": {
            "display_name": "Python 3.7",
            "language": "python",
            "name": "python3"
        },
        "language_info": {
            "codemirror_mode": {
                "name": "ipython",
                "version": 3
            },
            "file_extension": ".py",
            "mimetype": "text/x-python",
            "name": "python",
            "nbconvert_exporter": "python",
            "pygments_lexer": "ipython3",
            "version": "3.7.9"
        }
    },
    "nbformat": 4,
    "nbformat_minor": 1
}